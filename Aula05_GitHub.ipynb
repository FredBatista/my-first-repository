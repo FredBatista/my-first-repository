{
  "nbformat": 4,
  "nbformat_minor": 0,
  "metadata": {
    "colab": {
      "name": "Aula05_GitHub.ipynb",
      "provenance": []
    },
    "kernelspec": {
      "name": "python3",
      "display_name": "Python 3"
    }
  },
  "cells": [
    {
      "cell_type": "markdown",
      "metadata": {
        "id": "RCTHWGGZPdyh"
      },
      "source": [
        "# Aula GitHub"
      ]
    },
    {
      "cell_type": "code",
      "metadata": {
        "id": "qb6GrPBcPhAT"
      },
      "source": [
        "print('This is a code cell')"
      ],
      "execution_count": null,
      "outputs": []
    },
    {
      "cell_type": "code",
      "metadata": {
        "id": "-xEJ7vJlPw54"
      },
      "source": [
        "from matplotlib import pyplot\n",
        "pyplot.plot([1,2,3,4,5]);"
      ],
      "execution_count": null,
      "outputs": []
    },
    {
      "cell_type": "code",
      "metadata": {
        "id": "XYa8jVatQF6A"
      },
      "source": [
        ""
      ],
      "execution_count": null,
      "outputs": []
    }
  ]
}