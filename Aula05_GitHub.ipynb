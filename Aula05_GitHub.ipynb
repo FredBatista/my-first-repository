{
  "nbformat": 4,
  "nbformat_minor": 0,
  "metadata": {
    "colab": {
      "name": "Aula05_GitHub.ipynb",
      "provenance": [],
      "authorship_tag": "ABX9TyNt8q7uzbDnHx8MKY9BVx1M",
      "include_colab_link": true
    },
    "kernelspec": {
      "name": "python3",
      "display_name": "Python 3"
    }
  },
  "cells": [
    {
      "cell_type": "markdown",
      "metadata": {
        "id": "view-in-github",
        "colab_type": "text"
      },
      "source": [
        "<a href=\"https://colab.research.google.com/github/FredBatista/my-first-repository/blob/main/Aula05_GitHub.ipynb\" target=\"_parent\"><img src=\"https://colab.research.google.com/assets/colab-badge.svg\" alt=\"Open In Colab\"/></a>"
      ]
    },
    {
      "cell_type": "markdown",
      "metadata": {
        "id": "RCTHWGGZPdyh"
      },
      "source": [
        "# Aula GitHub"
      ]
    },
    {
      "cell_type": "code",
      "metadata": {
        "id": "qb6GrPBcPhAT"
      },
      "source": [
        "print('This is a newly modified code cell')"
      ],
      "execution_count": null,
      "outputs": []
    },
    {
      "cell_type": "code",
      "metadata": {
        "id": "-xEJ7vJlPw54"
      },
      "source": [
        "from matplotlib import pyplot\n",
        "pyplot.plot([1,2,3,4,5]);"
      ],
      "execution_count": null,
      "outputs": []
    },
    {
      "cell_type": "code",
      "metadata": {
        "id": "XYa8jVatQF6A"
      },
      "source": [
        ""
      ],
      "execution_count": null,
      "outputs": []
    }
  ]
}